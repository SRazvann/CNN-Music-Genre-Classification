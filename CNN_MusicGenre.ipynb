{
 "cells": [
  {
   "cell_type": "code",
   "execution_count": null,
   "id": "65af8b08",
   "metadata": {},
   "outputs": [],
   "source": [
    "conda install -c conda-forge tensorflow "
   ]
  },
  {
   "cell_type": "code",
   "execution_count": null,
   "id": "db3da229",
   "metadata": {},
   "outputs": [],
   "source": [
    "conda install -c numba"
   ]
  },
  {
   "cell_type": "code",
   "execution_count": null,
   "id": "2f64d305",
   "metadata": {},
   "outputs": [],
   "source": [
    "conda install -c conda-forge librosa"
   ]
  },
  {
   "cell_type": "code",
   "execution_count": null,
   "id": "97756a69",
   "metadata": {},
   "outputs": [],
   "source": [
    "conda install -c conda-forge keras"
   ]
  },
  {
   "cell_type": "code",
   "execution_count": null,
   "id": "fe6d3763",
   "metadata": {},
   "outputs": [],
   "source": [
    "conda install -c conda-forge pydot"
   ]
  },
  {
   "cell_type": "code",
   "execution_count": null,
   "id": "31133eca",
   "metadata": {},
   "outputs": [],
   "source": [
    "conda install -c conda-forge pydub"
   ]
  },
  {
   "cell_type": "code",
   "execution_count": 1,
   "id": "7c7f2132",
   "metadata": {},
   "outputs": [],
   "source": [
    "import tensorflow as tf\n",
    "import numpy as np\n",
    "import scipy\n",
    "from scipy import misc\n",
    "import glob\n",
    "from PIL import Image\n",
    "import os\n",
    "import matplotlib.pyplot as plt\n",
    "import librosa\n",
    "from keras import layers\n",
    "from keras.layers import Input, Add, Dense, Activation, ZeroPadding2D, BatchNormalization, Flatten, Conv2D, AveragePooling2D, MaxPooling2D, GlobalMaxPooling2D\n",
    "from keras.models import Model, load_model\n",
    "from keras.preprocessing import image\n",
    "from keras.utils import layer_utils\n",
    "from keras.utils.data_utils import get_file\n",
    "from keras.applications.imagenet_utils import preprocess_input\n",
    "import pydot\n",
    "from IPython.display import SVG\n",
    "from keras.utils.vis_utils import model_to_dot\n",
    "from tensorflow.keras.utils import plot_model\n",
    "from tensorflow.keras.optimizers import Adam\n",
    "from keras.initializers import glorot_uniform\n",
    "from matplotlib.backends.backend_agg import FigureCanvasAgg as FigureCanvas\n",
    "from pydub import AudioSegment\n",
    "import shutil\n",
    "from keras.preprocessing.image import ImageDataGenerator\n",
    "import random"
   ]
  },
  {
   "cell_type": "code",
   "execution_count": 3,
   "id": "b564d40a",
   "metadata": {},
   "outputs": [],
   "source": [
    "genres = ['blues', 'classical', 'country', 'disco', 'pop', 'hiphop', 'metal', 'reggae', 'rock']"
   ]
  },
  {
   "cell_type": "code",
   "execution_count": null,
   "id": "23de1dc3",
   "metadata": {},
   "outputs": [],
   "source": [
    "for g in genres:\n",
    "  path1 = os.path.join('D:/CNN/5sec',f'{g}')\n",
    "  os.makedirs(path1)\n",
    "  path = os.path.join('D:/CNN/spectrogram5sec',f'{g}')\n",
    "  \n",
    "  os. makedirs(path)"
   ]
  },
  {
   "cell_type": "code",
   "execution_count": null,
   "id": "55a7e9c4",
   "metadata": {},
   "outputs": [],
   "source": [
    "from pydub import AudioSegment\n",
    "for g in genres:\n",
    "  j=0\n",
    "  print(f\"{g}\")\n",
    "  for filename in os.listdir(os.path.join('D:/CNN/Data/genres_original',f\"{g}\")):\n",
    "\n",
    "    song  =  os.path.join(f'D:/CNN/Data/genres_original/{g}',f'{filename}')\n",
    "    j = j+1\n",
    "    for w in range(0,6):\n",
    "      t1 = 5*(w)*1000\n",
    "      t2 = 5*(w+1)*1000\n",
    "      newAudio = AudioSegment.from_wav(song)\n",
    "      new = newAudio[t1:t2]\n",
    "      new.export(f'D:/CNN/5sec/{g}/{g+str(j)+str(w)}.wav', format=\"wav\")"
   ]
  },
  {
   "cell_type": "code",
   "execution_count": null,
   "id": "d809cf0e",
   "metadata": {},
   "outputs": [],
   "source": [
    "for g in genres:\n",
    "  j = 0\n",
    "  print(g)\n",
    "  for filename in os.listdir(os.path.join('D:/CNN/5sec',f\"{g}\")):\n",
    "    song  =  os.path.join(f'D:/CNN/5sec/{g}',f'{filename}')\n",
    "    j = j+1\n",
    "    plt.rcParams[\"figure.autolayout\"] = True\n",
    "    plt.rcParams[\"figure.figsize\"] = [4.32, 2.88]\n",
    "    y,sr = librosa.load(song,duration=5)\n",
    "    mels = librosa.feature.melspectrogram(y=y,sr=sr)\n",
    "    fig = plt.Figure()\n",
    "    canvas = FigureCanvas(fig)\n",
    "    p = plt.imshow(librosa.power_to_db(mels,ref=np.max))\n",
    "    plt.savefig(f'D:/CNN/spectrogram5sec/{g}/{g+str(j)}.png')"
   ]
  },
  {
   "cell_type": "code",
   "execution_count": 4,
   "id": "58add150",
   "metadata": {},
   "outputs": [],
   "source": [
    "directory = \"D:/CNN/spectrogram5sec/\"\n",
    "for g in genres:\n",
    "  filenames = os.listdir(os.path.join(directory,f\"{g}\"))\n",
    "  random.shuffle(filenames)\n",
    "  test_files = filenames[0:150]\n",
    "\n",
    "  for f in test_files:\n",
    "\n",
    "    shutil.move(directory + f\"{g}\"+ \"/\" + f,\"D:/CNN/test5sec/\" + f\"{g}\")"
   ]
  },
  {
   "cell_type": "code",
   "execution_count": 2,
   "id": "adee5be1",
   "metadata": {},
   "outputs": [
    {
     "name": "stdout",
     "output_type": "stream",
     "text": [
      "Found 4500 images belonging to 9 classes.\n",
      "Found 900 images belonging to 9 classes.\n"
     ]
    }
   ],
   "source": [
    "train_dir = \"D:/CNN/spectrogram5sec/\"\n",
    "train_datagen = ImageDataGenerator(rescale=1./255)\n",
    "train_generator = train_datagen.flow_from_directory(train_dir,target_size=(288,432),color_mode=\"rgb\",class_mode='categorical',batch_size=128)\n",
    "\n",
    "validation_dir = \"D:/CNN/test5sec/\"\n",
    "vali_datagen = ImageDataGenerator(rescale=1./255)\n",
    "vali_generator = vali_datagen.flow_from_directory(validation_dir,target_size=(288,432),color_mode='rgb',class_mode='categorical',batch_size=128)"
   ]
  },
  {
   "cell_type": "code",
   "execution_count": 17,
   "id": "3b8fd949",
   "metadata": {},
   "outputs": [],
   "source": [
    "def GenreModel(input_shape = (288,432,3),classes=9):\n",
    "  np.random.seed(9)\n",
    "  X_input = Input(input_shape)\n",
    "\n",
    "  X = Conv2D(8,kernel_size=(3,3),strides=(1,1),kernel_initializer = glorot_uniform(seed=9))(X_input)\n",
    "  X = BatchNormalization(axis=3)(X)\n",
    "  X = Activation('relu')(X)\n",
    "  X = MaxPooling2D((2,2))(X)\n",
    "  \n",
    "  X = Conv2D(16,kernel_size=(3,3),strides = (1,1),kernel_initializer=glorot_uniform(seed=9))(X)\n",
    "  X = BatchNormalization(axis=3)(X)\n",
    "  X = Activation('relu')(X)\n",
    "  X = MaxPooling2D((2,2))(X)\n",
    "  \n",
    "  X = Conv2D(32,kernel_size=(3,3),strides = (1,1),kernel_initializer = glorot_uniform(seed=9))(X)\n",
    "  X = BatchNormalization(axis=3)(X)\n",
    "  X = Activation('relu')(X)\n",
    "  X = MaxPooling2D((2,2))(X)\n",
    "\n",
    "  X = Conv2D(64,kernel_size=(3,3),strides=(1,1),kernel_initializer=glorot_uniform(seed=9))(X)\n",
    "  X = BatchNormalization(axis=-1)(X)\n",
    "  X = Activation('relu')(X)\n",
    "  X = MaxPooling2D((2,2))(X)\n",
    "\n",
    "  \n",
    "  X = Flatten()(X)\n",
    "\n",
    "  X = Dense(classes, activation='softmax', name='fc' + str(classes), kernel_initializer = glorot_uniform(seed=9))(X)\n",
    "\n",
    "  model = Model(inputs=X_input,outputs=X,name='GenreModel')\n",
    "\n",
    "  return model"
   ]
  },
  {
   "cell_type": "code",
   "execution_count": 18,
   "id": "71fdc4cf",
   "metadata": {},
   "outputs": [],
   "source": [
    "import keras.backend as K\n",
    "def get_f1(y_true, y_pred): #taken from old keras source code\n",
    "    true_positives = K.sum(K.round(K.clip(y_true * y_pred, 0, 1)))\n",
    "    possible_positives = K.sum(K.round(K.clip(y_true, 0, 1)))\n",
    "    predicted_positives = K.sum(K.round(K.clip(y_pred, 0, 1)))\n",
    "    precision = true_positives / (predicted_positives + K.epsilon())\n",
    "    recall = true_positives / (possible_positives + K.epsilon())\n",
    "    f1_val = 2*(precision*recall)/(precision+recall+K.epsilon())\n",
    "    return f1_val"
   ]
  },
  {
   "cell_type": "code",
   "execution_count": 19,
   "id": "c54aa539",
   "metadata": {},
   "outputs": [],
   "source": [
    "model = GenreModel(input_shape=(288,432,3),classes=9)\n",
    "opt = Adam(learning_rate=0.00005)\n",
    "model.compile(optimizer = opt,loss='categorical_crossentropy',metrics=['accuracy',get_f1])"
   ]
  },
  {
   "cell_type": "code",
   "execution_count": 20,
   "id": "11afb18d",
   "metadata": {},
   "outputs": [
    {
     "name": "stdout",
     "output_type": "stream",
     "text": [
      "Model: \"GenreModel\"\n",
      "_________________________________________________________________\n",
      "Layer (type)                 Output Shape              Param #   \n",
      "=================================================================\n",
      "input_3 (InputLayer)         [(None, 288, 432, 3)]     0         \n",
      "_________________________________________________________________\n",
      "conv2d_9 (Conv2D)            (None, 286, 430, 8)       224       \n",
      "_________________________________________________________________\n",
      "batch_normalization_9 (Batch (None, 286, 430, 8)       32        \n",
      "_________________________________________________________________\n",
      "activation_9 (Activation)    (None, 286, 430, 8)       0         \n",
      "_________________________________________________________________\n",
      "max_pooling2d_9 (MaxPooling2 (None, 143, 215, 8)       0         \n",
      "_________________________________________________________________\n",
      "conv2d_10 (Conv2D)           (None, 141, 213, 16)      1168      \n",
      "_________________________________________________________________\n",
      "batch_normalization_10 (Batc (None, 141, 213, 16)      64        \n",
      "_________________________________________________________________\n",
      "activation_10 (Activation)   (None, 141, 213, 16)      0         \n",
      "_________________________________________________________________\n",
      "max_pooling2d_10 (MaxPooling (None, 70, 106, 16)       0         \n",
      "_________________________________________________________________\n",
      "conv2d_11 (Conv2D)           (None, 68, 104, 32)       4640      \n",
      "_________________________________________________________________\n",
      "batch_normalization_11 (Batc (None, 68, 104, 32)       128       \n",
      "_________________________________________________________________\n",
      "activation_11 (Activation)   (None, 68, 104, 32)       0         \n",
      "_________________________________________________________________\n",
      "max_pooling2d_11 (MaxPooling (None, 34, 52, 32)        0         \n",
      "_________________________________________________________________\n",
      "conv2d_12 (Conv2D)           (None, 32, 50, 64)        18496     \n",
      "_________________________________________________________________\n",
      "batch_normalization_12 (Batc (None, 32, 50, 64)        256       \n",
      "_________________________________________________________________\n",
      "activation_12 (Activation)   (None, 32, 50, 64)        0         \n",
      "_________________________________________________________________\n",
      "max_pooling2d_12 (MaxPooling (None, 16, 25, 64)        0         \n",
      "_________________________________________________________________\n",
      "flatten_2 (Flatten)          (None, 25600)             0         \n",
      "_________________________________________________________________\n",
      "fc9 (Dense)                  (None, 9)                 230409    \n",
      "=================================================================\n",
      "Total params: 255,417\n",
      "Trainable params: 255,177\n",
      "Non-trainable params: 240\n",
      "_________________________________________________________________\n"
     ]
    }
   ],
   "source": [
    "model.summary()"
   ]
  },
  {
   "cell_type": "code",
   "execution_count": 11,
   "id": "b1ddf62b",
   "metadata": {
    "scrolled": true
   },
   "outputs": [
    {
     "name": "stdout",
     "output_type": "stream",
     "text": [
      "Epoch 1/40\n",
      "36/36 [==============================] - 268s 7s/step - loss: 2.0055 - accuracy: 0.2607 - get_f1: 0.0414 - val_loss: 2.1973 - val_accuracy: 0.1111 - val_get_f1: 0.0000e+00\n",
      "Epoch 2/40\n",
      "36/36 [==============================] - 249s 7s/step - loss: 1.5396 - accuracy: 0.4436 - get_f1: 0.2241 - val_loss: 2.2090 - val_accuracy: 0.1111 - val_get_f1: 0.0000e+00\n",
      "Epoch 3/40\n",
      "36/36 [==============================] - 251s 7s/step - loss: 1.3333 - accuracy: 0.5158 - get_f1: 0.3696 - val_loss: 2.2670 - val_accuracy: 0.1111 - val_get_f1: 0.0000e+00\n",
      "Epoch 4/40\n",
      "36/36 [==============================] - 251s 7s/step - loss: 1.1894 - accuracy: 0.5782 - get_f1: 0.4631 - val_loss: 2.3569 - val_accuracy: 0.1111 - val_get_f1: 0.0000e+00\n",
      "Epoch 5/40\n",
      "36/36 [==============================] - 250s 7s/step - loss: 1.0741 - accuracy: 0.6213 - get_f1: 0.5388 - val_loss: 2.4786 - val_accuracy: 0.1111 - val_get_f1: 0.0000e+00\n",
      "Epoch 6/40\n",
      "36/36 [==============================] - 252s 7s/step - loss: 0.9936 - accuracy: 0.6536 - get_f1: 0.5837 - val_loss: 2.7031 - val_accuracy: 0.1111 - val_get_f1: 0.1511\n",
      "Epoch 7/40\n",
      "36/36 [==============================] - 252s 7s/step - loss: 0.9167 - accuracy: 0.6978 - get_f1: 0.6250 - val_loss: 2.7502 - val_accuracy: 0.1111 - val_get_f1: 0.1797\n",
      "Epoch 8/40\n",
      "36/36 [==============================] - 252s 7s/step - loss: 0.8647 - accuracy: 0.7076 - get_f1: 0.6530 - val_loss: 2.8306 - val_accuracy: 0.1189 - val_get_f1: 0.1056\n",
      "Epoch 9/40\n",
      "36/36 [==============================] - 255s 7s/step - loss: 0.8060 - accuracy: 0.7298 - get_f1: 0.6895 - val_loss: 2.7202 - val_accuracy: 0.1322 - val_get_f1: 0.1107\n",
      "Epoch 10/40\n",
      "36/36 [==============================] - 258s 7s/step - loss: 0.7476 - accuracy: 0.7513 - get_f1: 0.7116 - val_loss: 2.4437 - val_accuracy: 0.1756 - val_get_f1: 0.1441\n",
      "Epoch 11/40\n",
      "36/36 [==============================] - 258s 7s/step - loss: 0.6964 - accuracy: 0.7753 - get_f1: 0.7442 - val_loss: 1.9682 - val_accuracy: 0.2811 - val_get_f1: 0.2724\n",
      "Epoch 12/40\n",
      "36/36 [==============================] - 250s 7s/step - loss: 0.6626 - accuracy: 0.7878 - get_f1: 0.7594 - val_loss: 1.8254 - val_accuracy: 0.3189 - val_get_f1: 0.3066\n",
      "Epoch 13/40\n",
      "36/36 [==============================] - 253s 7s/step - loss: 0.6101 - accuracy: 0.8062 - get_f1: 0.7834 - val_loss: 1.4248 - val_accuracy: 0.4467 - val_get_f1: 0.4173\n",
      "Epoch 14/40\n",
      "36/36 [==============================] - 250s 7s/step - loss: 0.5783 - accuracy: 0.8202 - get_f1: 0.7971 - val_loss: 1.1927 - val_accuracy: 0.5622 - val_get_f1: 0.5670\n",
      "Epoch 15/40\n",
      "36/36 [==============================] - 250s 7s/step - loss: 0.5446 - accuracy: 0.8287 - get_f1: 0.8198 - val_loss: 1.0090 - val_accuracy: 0.6344 - val_get_f1: 0.6244\n",
      "Epoch 16/40\n",
      "36/36 [==============================] - 250s 7s/step - loss: 0.5223 - accuracy: 0.8418 - get_f1: 0.8244 - val_loss: 0.9434 - val_accuracy: 0.6578 - val_get_f1: 0.6495\n",
      "Epoch 17/40\n",
      "36/36 [==============================] - 251s 7s/step - loss: 0.4872 - accuracy: 0.8556 - get_f1: 0.8377 - val_loss: 0.8489 - val_accuracy: 0.7000 - val_get_f1: 0.7149\n",
      "Epoch 18/40\n",
      "36/36 [==============================] - 249s 7s/step - loss: 0.4669 - accuracy: 0.8618 - get_f1: 0.8509 - val_loss: 0.8227 - val_accuracy: 0.7133 - val_get_f1: 0.7106\n",
      "Epoch 19/40\n",
      "36/36 [==============================] - 250s 7s/step - loss: 0.4408 - accuracy: 0.8760 - get_f1: 0.8640 - val_loss: 0.8090 - val_accuracy: 0.7189 - val_get_f1: 0.7048\n",
      "Epoch 20/40\n",
      "36/36 [==============================] - 249s 7s/step - loss: 0.4158 - accuracy: 0.8827 - get_f1: 0.8715 - val_loss: 0.7776 - val_accuracy: 0.7200 - val_get_f1: 0.7355\n",
      "Epoch 21/40\n",
      "36/36 [==============================] - 250s 7s/step - loss: 0.3999 - accuracy: 0.8884 - get_f1: 0.8757 - val_loss: 0.7641 - val_accuracy: 0.7244 - val_get_f1: 0.7351\n",
      "Epoch 22/40\n",
      "36/36 [==============================] - 250s 7s/step - loss: 0.3818 - accuracy: 0.8967 - get_f1: 0.8848 - val_loss: 0.7672 - val_accuracy: 0.7244 - val_get_f1: 0.6995\n",
      "Epoch 23/40\n",
      "36/36 [==============================] - 251s 7s/step - loss: 0.3496 - accuracy: 0.9096 - get_f1: 0.9011 - val_loss: 0.7304 - val_accuracy: 0.7500 - val_get_f1: 0.7605\n",
      "Epoch 24/40\n",
      "36/36 [==============================] - 250s 7s/step - loss: 0.3270 - accuracy: 0.9240 - get_f1: 0.9092 - val_loss: 0.7364 - val_accuracy: 0.7333 - val_get_f1: 0.7618\n",
      "Epoch 25/40\n",
      "36/36 [==============================] - 250s 7s/step - loss: 0.3135 - accuracy: 0.9276 - get_f1: 0.9162 - val_loss: 0.7024 - val_accuracy: 0.7511 - val_get_f1: 0.6897\n",
      "Epoch 26/40\n",
      "36/36 [==============================] - 250s 7s/step - loss: 0.2972 - accuracy: 0.9336 - get_f1: 0.9245 - val_loss: 0.7034 - val_accuracy: 0.7411 - val_get_f1: 0.7204\n",
      "Epoch 27/40\n",
      "36/36 [==============================] - 253s 7s/step - loss: 0.2906 - accuracy: 0.9344 - get_f1: 0.9289 - val_loss: 0.6951 - val_accuracy: 0.7533 - val_get_f1: 0.7231\n",
      "Epoch 28/40\n",
      "36/36 [==============================] - 253s 7s/step - loss: 0.2665 - accuracy: 0.9453 - get_f1: 0.9347 - val_loss: 0.6840 - val_accuracy: 0.7533 - val_get_f1: 0.7278\n",
      "Epoch 29/40\n",
      "36/36 [==============================] - 255s 7s/step - loss: 0.2544 - accuracy: 0.9522 - get_f1: 0.9444 - val_loss: 0.6996 - val_accuracy: 0.7556 - val_get_f1: 0.7594\n",
      "Epoch 30/40\n",
      "36/36 [==============================] - 253s 7s/step - loss: 0.2385 - accuracy: 0.9553 - get_f1: 0.9480 - val_loss: 0.6929 - val_accuracy: 0.7467 - val_get_f1: 0.7565\n",
      "Epoch 31/40\n",
      "36/36 [==============================] - 253s 7s/step - loss: 0.2265 - accuracy: 0.9600 - get_f1: 0.9538 - val_loss: 0.6824 - val_accuracy: 0.7689 - val_get_f1: 0.7441\n",
      "Epoch 32/40\n",
      "36/36 [==============================] - 253s 7s/step - loss: 0.2153 - accuracy: 0.9627 - get_f1: 0.9558 - val_loss: 0.6955 - val_accuracy: 0.7600 - val_get_f1: 0.7313\n",
      "Epoch 33/40\n",
      "36/36 [==============================] - 252s 7s/step - loss: 0.2032 - accuracy: 0.9684 - get_f1: 0.9640 - val_loss: 0.6843 - val_accuracy: 0.7567 - val_get_f1: 0.7502\n",
      "Epoch 34/40\n",
      "36/36 [==============================] - 252s 7s/step - loss: 0.1961 - accuracy: 0.9720 - get_f1: 0.9655 - val_loss: 0.6906 - val_accuracy: 0.7589 - val_get_f1: 0.7504\n",
      "Epoch 35/40\n",
      "36/36 [==============================] - 256s 7s/step - loss: 0.1879 - accuracy: 0.9740 - get_f1: 0.9678 - val_loss: 0.6583 - val_accuracy: 0.7678 - val_get_f1: 0.7658\n",
      "Epoch 36/40\n",
      "36/36 [==============================] - 257s 7s/step - loss: 0.1786 - accuracy: 0.9771 - get_f1: 0.9715 - val_loss: 0.6545 - val_accuracy: 0.7733 - val_get_f1: 0.7802\n",
      "Epoch 37/40\n",
      "36/36 [==============================] - 255s 7s/step - loss: 0.1637 - accuracy: 0.9840 - get_f1: 0.9767 - val_loss: 0.6673 - val_accuracy: 0.7656 - val_get_f1: 0.7410\n",
      "Epoch 38/40\n",
      "36/36 [==============================] - 258s 7s/step - loss: 0.1578 - accuracy: 0.9833 - get_f1: 0.9786 - val_loss: 0.6759 - val_accuracy: 0.7711 - val_get_f1: 0.7100\n",
      "Epoch 39/40\n",
      "36/36 [==============================] - 257s 7s/step - loss: 0.1500 - accuracy: 0.9853 - get_f1: 0.9785 - val_loss: 0.6427 - val_accuracy: 0.7844 - val_get_f1: 0.7977\n",
      "Epoch 40/40\n",
      "36/36 [==============================] - 258s 7s/step - loss: 0.1401 - accuracy: 0.9896 - get_f1: 0.9865 - val_loss: 0.6465 - val_accuracy: 0.7644 - val_get_f1: 0.7677\n"
     ]
    },
    {
     "data": {
      "text/plain": [
       "<tensorflow.python.keras.callbacks.History at 0x29e51253fa0>"
      ]
     },
     "execution_count": 11,
     "metadata": {},
     "output_type": "execute_result"
    }
   ],
   "source": [
    "model.fit(train_generator,epochs=40,validation_data=vali_generator)"
   ]
  },
  {
   "cell_type": "code",
   "execution_count": 13,
   "id": "30ba2f90",
   "metadata": {},
   "outputs": [
    {
     "name": "stdout",
     "output_type": "stream",
     "text": [
      "Epoch 1/10\n",
      "36/36 [==============================] - 258s 7s/step - loss: 0.1336 - accuracy: 0.9898 - get_f1: 0.9871 - val_loss: 0.6511 - val_accuracy: 0.7733 - val_get_f1: 0.7473\n",
      "Epoch 2/10\n",
      "36/36 [==============================] - 255s 7s/step - loss: 0.1262 - accuracy: 0.9922 - get_f1: 0.9906 - val_loss: 0.6355 - val_accuracy: 0.7822 - val_get_f1: 0.7968\n",
      "Epoch 3/10\n",
      "36/36 [==============================] - 254s 7s/step - loss: 0.1234 - accuracy: 0.9933 - get_f1: 0.9894 - val_loss: 0.6529 - val_accuracy: 0.7700 - val_get_f1: 0.8027\n",
      "Epoch 4/10\n",
      "36/36 [==============================] - 257s 7s/step - loss: 0.1156 - accuracy: 0.9960 - get_f1: 0.9910 - val_loss: 0.6335 - val_accuracy: 0.7867 - val_get_f1: 0.7771\n",
      "Epoch 5/10\n",
      "36/36 [==============================] - 257s 7s/step - loss: 0.1084 - accuracy: 0.9953 - get_f1: 0.9937 - val_loss: 0.6199 - val_accuracy: 0.7889 - val_get_f1: 0.7811\n",
      "Epoch 6/10\n",
      "36/36 [==============================] - 262s 7s/step - loss: 0.1023 - accuracy: 0.9964 - get_f1: 0.9937 - val_loss: 0.6245 - val_accuracy: 0.7878 - val_get_f1: 0.7778\n",
      "Epoch 7/10\n",
      "36/36 [==============================] - 259s 7s/step - loss: 0.0994 - accuracy: 0.9964 - get_f1: 0.9930 - val_loss: 0.6167 - val_accuracy: 0.7856 - val_get_f1: 0.7508\n",
      "Epoch 8/10\n",
      "36/36 [==============================] - 259s 7s/step - loss: 0.0980 - accuracy: 0.9971 - get_f1: 0.9953 - val_loss: 0.6430 - val_accuracy: 0.7756 - val_get_f1: 0.7712\n",
      "Epoch 9/10\n",
      "36/36 [==============================] - 251s 7s/step - loss: 0.0914 - accuracy: 0.9973 - get_f1: 0.9968 - val_loss: 0.6251 - val_accuracy: 0.7856 - val_get_f1: 0.7974\n",
      "Epoch 10/10\n",
      "36/36 [==============================] - 254s 7s/step - loss: 0.0856 - accuracy: 0.9978 - get_f1: 0.9967 - val_loss: 0.6265 - val_accuracy: 0.7756 - val_get_f1: 0.7906\n"
     ]
    },
    {
     "data": {
      "text/plain": [
       "<tensorflow.python.keras.callbacks.History at 0x29e52b67cd0>"
      ]
     },
     "execution_count": 13,
     "metadata": {},
     "output_type": "execute_result"
    }
   ],
   "source": [
    "model.fit(train_generator,epochs=10,validation_data=vali_generator)\n"
   ]
  },
  {
   "cell_type": "code",
   "execution_count": 15,
   "id": "811cbedd",
   "metadata": {},
   "outputs": [
    {
     "name": "stdout",
     "output_type": "stream",
     "text": [
      "36/36 [==============================] - 260s 7s/step - loss: 0.0811 - accuracy: 0.9987 - get_f1: 0.9972 - val_loss: 0.6143 - val_accuracy: 0.7944 - val_get_f1: 0.8185\n"
     ]
    },
    {
     "data": {
      "text/plain": [
       "<tensorflow.python.keras.callbacks.History at 0x29e439a52b0>"
      ]
     },
     "execution_count": 15,
     "metadata": {},
     "output_type": "execute_result"
    }
   ],
   "source": [
    "model.fit(train_generator,epochs=1,validation_data=vali_generator)"
   ]
  },
  {
   "cell_type": "code",
   "execution_count": 16,
   "id": "32be8719",
   "metadata": {},
   "outputs": [],
   "source": [
    "model.save('Music_CNN.h5')"
   ]
  },
  {
   "cell_type": "code",
   "execution_count": null,
   "id": "fbea8c79",
   "metadata": {},
   "outputs": [],
   "source": [
    "from tensorflow import keras\n",
    "model = keras.models.load_model('D:/CNN/Music_CNN.h5',custom_objects={'accuracy':accuracy,'get_f1':get_f1},compile=False)"
   ]
  },
  {
   "cell_type": "code",
   "execution_count": null,
   "id": "dd4563c7",
   "metadata": {},
   "outputs": [],
   "source": [
    "model = GenreModel(input_shape=(288,432,3),classes=9)\n",
    "opt = Adam(learning_rate=0.00005)\n",
    "model.compile(optimizer = opt,loss='categorical_crossentropy',metrics=['accuracy',get_f1])"
   ]
  },
  {
   "cell_type": "code",
   "execution_count": null,
   "id": "3880382d",
   "metadata": {},
   "outputs": [],
   "source": [
    "model = GenreModel(input_shape=(288,432,3),classes=9)\n",
    "model.load_weights('D:/CNN/app/Music_CNN.h5')"
   ]
  },
  {
   "cell_type": "code",
   "execution_count": null,
   "id": "66d8800c",
   "metadata": {},
   "outputs": [],
   "source": [
    "img = image.load_img('D:/CNN/test5sec/reggae/reggae5.png', target_size=(288,432,3))\n",
    "ts = image.img_to_array(img)\n",
    "\n",
    "ts = np.reshape(ts,(1,288,432,3))\n",
    "prediction = model.predict(ts/255)\n",
    "\n",
    "prediction = prediction.reshape((9,)) \n",
    "\n",
    "class_label = np.argmax(prediction)\n",
    "print(f'{class_label}: {prediction*100}')"
   ]
  },
  {
   "cell_type": "code",
   "execution_count": null,
   "id": "98794442",
   "metadata": {},
   "outputs": [],
   "source": [
    "sound = AudioSegment.from_mp3('D:/CNN/Taylor Swift - Blank Space.mp3')\n",
    "sound.export(\"music_file.wav\",format=\"wav\")"
   ]
  },
  {
   "cell_type": "code",
   "execution_count": null,
   "id": "3c3f8229",
   "metadata": {},
   "outputs": [],
   "source": [
    "wav = AudioSegment.from_wav('music_file.wav')\n",
    "wav = wav[30000:35000]\n",
    "wav.export(\"extracted.wav\",format='wav')"
   ]
  },
  {
   "cell_type": "code",
   "execution_count": null,
   "id": "bc62adba",
   "metadata": {},
   "outputs": [],
   "source": [
    "y,sr = librosa.load(\"extracted.wav\",duration=5)\n",
    "mels = librosa.feature.melspectrogram(y=y,sr=sr)\n",
    "\n",
    "fig = plt.Figure()\n",
    "canvas = FigureCanvas(fig)\n",
    "p = plt.imshow(librosa.power_to_db(mels,ref=np.max))\n",
    "plt.savefig('melspectrogram.png')"
   ]
  },
  {
   "cell_type": "code",
   "execution_count": null,
   "id": "75f17556",
   "metadata": {},
   "outputs": [],
   "source": [
    "img = image.load_img('melspectrogram.png', target_size=(288,432,3))\n",
    "ts = image.img_to_array(img)\n",
    "\n",
    "ts = np.reshape(ts,(1,288,432,3))\n",
    "prediction = model.predict(ts/255)\n",
    "\n",
    "prediction = prediction.reshape((9,)) \n",
    "\n",
    "class_label = np.argmax(prediction)\n",
    "print(f\"{class_label}: {prediction}\")"
   ]
  },
  {
   "cell_type": "code",
   "execution_count": null,
   "id": "1810efff",
   "metadata": {},
   "outputs": [],
   "source": []
  }
 ],
 "metadata": {
  "kernelspec": {
   "display_name": "Python 3",
   "language": "python",
   "name": "python3"
  },
  "language_info": {
   "codemirror_mode": {
    "name": "ipython",
    "version": 3
   },
   "file_extension": ".py",
   "mimetype": "text/x-python",
   "name": "python",
   "nbconvert_exporter": "python",
   "pygments_lexer": "ipython3",
   "version": "3.8.8"
  }
 },
 "nbformat": 4,
 "nbformat_minor": 5
}
